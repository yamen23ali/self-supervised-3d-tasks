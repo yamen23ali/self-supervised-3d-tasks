{
 "cells": [
  {
   "cell_type": "code",
   "execution_count": 1,
   "metadata": {},
   "outputs": [],
   "source": [
    "import numpy as np\n",
    "import nibabel as nib\n",
    "%matplotlib inline\n",
    "import matplotlib.pyplot as plt\n",
    "import albumentations as ab\n",
    "from scipy.ndimage.filters import gaussian_filter, sobel\n",
    "import skimage.transform as skTrans"
   ]
  },
  {
   "cell_type": "code",
   "execution_count": 2,
   "metadata": {},
   "outputs": [],
   "source": [
    "def load_image(file_path):\n",
    "    img = nib.load(file_path)\n",
    "    return img.get_data()\n",
    "\n",
    "def show_image(image, mask, index=0, axis=0):\n",
    "    if axis == 0:\n",
    "        image = image[0, :, :]\n",
    "        mask = mask[0, :, :]\n",
    "    elif axis == 1:\n",
    "        image = image[:, 0, :]\n",
    "        mask = mask[:, 0, :]\n",
    "    else:\n",
    "        image = image[:, :, 0]\n",
    "        mask = mask[:, :, 0]\n",
    "        \n",
    "    fig, (ax1, ax2) = plt.subplots(1,2, figsize = (12, 6))\n",
    "    #ax1.imshow(image, cmap='gray', vmin=0.0, vmax=1.0)\n",
    "    ax1.imshow(image)\n",
    "    ax1.set_title('')\n",
    "    #ax2.imshow(mask, cmap='gray', vmin=0.0, vmax=1.0)\n",
    "    ax2.imshow(mask)\n",
    "    ax2.set_title('')\n",
    "\n",
    "def do_crop_3d(image, x, y, z, h, w, d):\n",
    "\n",
    "    return image[x:x + h, y:y + w, z:z + d, :]\n",
    "\n",
    "def adjust_brightness(image, delta=0.125):\n",
    "\n",
    "    return image + delta\n",
    "\n",
    "def adjust_contrast(image, contrast_factor = 1.5):\n",
    "    image_mean = np.mean(image)\n",
    "\n",
    "    return (contrast_factor * (image - image_mean)) + image_mean\n",
    "\n",
    "def rotate_image(image, rot):\n",
    "\n",
    "    rotated_image = []\n",
    "\n",
    "    if rot == 1:\n",
    "        rotated_image = np.transpose(np.flip(image, 1), (1, 0, 2, 3))  # 90 deg Z\n",
    "    elif rot == 2:\n",
    "        rotated_image = np.flip(np.transpose(image, (1, 0, 2, 3)), 1)  # -90 deg Z\n",
    "    elif rot == 3:\n",
    "        rotated_image = np.flip(image, (0, 1))  # 180 degrees on z axis\n",
    "    elif rot == 4:\n",
    "        rotated_image = np.transpose(image, (0, 2, 1, 3))  # 90 deg X\n",
    "    elif rot == 5:\n",
    "        rotated_image = np.flip(np.transpose(image, (0, 2, 1, 3)), 1)  # -90 deg X\n",
    "    elif rot == 6:\n",
    "        rotated_image = np.flip(image, (1, 2))  # 180 degrees on x axis\n",
    "    elif rot == 7:\n",
    "        rotated_image = np.transpose(np.flip(image, 0), (2, 1, 0, 3))  # 90 deg Y\n",
    "    elif rot == 8:\n",
    "        rotated_image = np.transpose(np.flip(image, 0), (2, 1, 0, 3))  # -90 deg Y\n",
    "    elif rot == 9:\n",
    "        rotated_image = np.flip(image, (0, 2))  # 180 degrees on y axis\n",
    "\n",
    "    return rotated_image\n",
    "\n",
    "\n",
    "def resize(image, new_size):\n",
    "    # image.shape[3] is the number of channels\n",
    "    new_image = np.zeros((new_size, new_size, new_size, image.shape[3]))\n",
    "\n",
    "    for z in range(image.shape[2]):\n",
    "            new_image[:, :, z, :] = np.array(ab.Resize(new_size, new_size)(image=image[:,:,z])[\"image\"])\n",
    "    return new_image\n",
    "\n",
    "def crop_and_resize(image, alpha=4):\n",
    "\n",
    "    # All sides have the same size so anyone would do\n",
    "    max_crop_length = int(image.shape[0] / alpha)\n",
    "    max_start = (image.shape[0] - max_crop_length) - 2 # To make sure no IndexOutOfBound occurs\n",
    "\n",
    "    # Select the starting point of the cropping randomly\n",
    "    start_x = np.random.randint(0, max_start)\n",
    "    start_y = np.random.randint(0, max_start)\n",
    "    start_z = np.random.randint(0, max_start)\n",
    "\n",
    "    # Cropp a cubic image, if another form of cropping is required then we need to pass different \n",
    "    # values instead of the same max_crop_length for all\n",
    "    cropped_image = do_crop_3d(image, start_x, start_y, start_z, max_crop_length, max_crop_length, max_crop_length)\n",
    "    \n",
    "    return resize(cropped_image, image.shape[0])\n",
    "    #return skTrans.resize(cropped_image, image.shape, order=1, preserve_range=True)\n",
    "\n",
    "def add_gaussian_noise(image, max_mean=0.3, max_sigma=0.1):\n",
    "    mean = np.random.uniform(-max_mean, max_mean)\n",
    "    sigma = np.random.uniform(0.0, max_sigma)\n",
    "    \n",
    "    gauss = np.random.normal(mean, sigma,image.shape)\n",
    "    \n",
    "    return image + gauss\n",
    "\n",
    "def apply_gaussian_filter(image, max_sigma=1.0):\n",
    "    sigma = np.random.uniform(0.0, max_sigma)\n",
    "    \n",
    "    return gaussian_filter(image, sigma)\n",
    "\n",
    "def apply_sobel_filter(image):\n",
    "    dx = sobel(image, 0)\n",
    "    dy = sobel(image, 1)\n",
    "    dz = sobel(image, 2)\n",
    "    \n",
    "    mag = np.sqrt(dx**2 + dy**2 + dz**2)\n",
    "    filtered  = mag * (1.0 / np.max(mag))\n",
    "    \n",
    "    return filtered\n",
    "\n",
    "def cut_out(image, alpha=4):\n",
    "\n",
    "    # All sides have the same size so anyone would do\n",
    "    max_cutout_length = int(image.shape[0] / alpha)\n",
    "    max_start = (image.shape[0] - max_cutout_length) - 2 # To make sure no IndexOutOfBound occurs\n",
    "\n",
    "    # Select the starting point of the cropping randomly\n",
    "    start_x = np.random.randint(0, max_start)\n",
    "    end_x = start_x +  max_cutout_length\n",
    "    \n",
    "    start_y = np.random.randint(0, max_start)\n",
    "    end_y = start_y + max_cutout_length\n",
    "    \n",
    "    start_z = np.random.randint(0, max_start)\n",
    "    end_z = start_z +  max_cutout_length\n",
    "    \n",
    "    cutout_pixels = np.zeros((end_x - start_x, end_y - start_y, end_z - start_z,1))\n",
    "    \n",
    "    cutout_image = image.copy()\n",
    "    cutout_image[start_x:end_x, start_y:end_y, start_z:end_z, :] =  cutout_pixels\n",
    "    \n",
    "    return cutout_image\n",
    "    \n"
   ]
  },
  {
   "cell_type": "code",
   "execution_count": 6,
   "metadata": {
    "scrolled": false
   },
   "outputs": [
    {
     "name": "stdout",
     "output_type": "stream",
     "text": [
      "(64, 64, 64, 1)\n"
     ]
    },
    {
     "data": {
      "image/png": "[encoded data removed]",
      "text/plain": [
       "<Figure size 864x432 with 2 Axes>"
      ]
     },
     "metadata": {
      "needs_background": "light"
     },
     "output_type": "display_data"
    }
   ],
   "source": [
    "image = np.load(f\"/Users/d070867/netstore/workspace/cpc_pancreas3d/Task07_Pancreas/Task07_Pancreas/result/train/pancreas_005_000.npy\")\n",
    "mask = np.load(f\"/Users/d070867/netstore/workspace/cpc_pancreas3d/Task07_Pancreas/Task07_Pancreas/result/train_labels/pancreas_005_000_label.npy\")\n",
    "\n",
    "show_image(image, mask, 0, 2)\n",
    "print(image.shape)\n"
   ]
  },
  {
   "cell_type": "code",
   "execution_count": 1,
   "metadata": {},
   "outputs": [
    {
     "data": {
      "text/plain": [
       "array([1.        , 0.        , 0.33333333])"
      ]
     },
     "execution_count": 1,
     "metadata": {},
     "output_type": "execute_result"
    }
   ],
   "source": [
    "import numpy as np\n",
    "from sklearn.metrics import jaccard_score\n",
    "y_pred = [0, 2, 1, 2]\n",
    "y_true = [0, 1, 2, 2]\n",
    "jaccard_score(y_true, y_pred, average=None)"
   ]
  },
  {
   "cell_type": "code",
   "execution_count": null,
   "metadata": {},
   "outputs": [],
   "source": []
  }
 ],
 "metadata": {
  "kernelspec": {
   "display_name": "Python 3",
   "language": "python",
   "name": "python3"
  },
  "language_info": {
   "codemirror_mode": {
    "name": "ipython",
    "version": 3
   },
   "file_extension": ".py",
   "mimetype": "text/x-python",
   "name": "python",
   "nbconvert_exporter": "python",
   "pygments_lexer": "ipython3",
   "version": "3.7.9"
  }
 },
 "nbformat": 4,
 "nbformat_minor": 4
}
